{
 "cells": [
  {
   "cell_type": "markdown",
   "metadata": {},
   "source": [
    "## python[03]列表list和数组array的比较\n",
    "### 摘要\n",
    "列表和数组都是容器，列表用于存放复杂的数据结构，而数组用于存放单一类型的数据，所以计算效率更快。"
   ]
  },
  {
   "cell_type": "markdown",
   "metadata": {},
   "source": [
    "### 列表list  \n"
   ]
  },
  {
   "cell_type": "code",
   "execution_count": 6,
   "metadata": {
    "collapsed": false
   },
   "outputs": [
    {
     "name": "stdout",
     "output_type": "stream",
     "text": [
      "['a', 'helloworld', 123, 123.333, [1, 2, 3]]\n",
      "[[1 2 3]\n",
      " [2 3 4]]\n"
     ]
    }
   ],
   "source": [
    "a_list=['a','helloworld',123,123.333,[1,2,3]]\n",
    "import numpy as np\n",
    "a_array=np.array([[1,2,3],[2,3,4]])\n",
    "print a_list\n",
    "print a_array"
   ]
  },
  {
   "cell_type": "markdown",
   "metadata": {},
   "source": [
    "列表是python中内置的数据结构。列表中的元素可以是任何对象，因为列表中保存的是对象的指针。\n",
    "### 数组array\n",
    "python 提供了array模块，其所有成员必须是想通的基本类型。"
   ]
  },
  {
   "cell_type": "code",
   "execution_count": 8,
   "metadata": {
    "collapsed": false
   },
   "outputs": [
    {
     "name": "stdout",
     "output_type": "stream",
     "text": [
      "The slowest run took 6.59 times longer than the fastest. This could mean that an intermediate result is being cached.\n",
      "1000000 loops, best of 3: 229 ns per loop\n",
      "10\n"
     ]
    }
   ],
   "source": [
    "from array import array\n",
    "a_array=array('l',[1,2,3,4])\n",
    "b=[1,2,3,4]\n",
    "%timeit sum_arr=a_array[0]+a_array[1]+a_array[2]+a_array[3]\n",
    "%timeit sum_b=b[0]+b[1]+b[2]+b[3]\n",
    "print sum_arr"
   ]
  },
  {
   "cell_type": "code",
   "execution_count": null,
   "metadata": {
    "collapsed": true
   },
   "outputs": [],
   "source": []
  }
 ],
 "metadata": {
  "kernelspec": {
   "display_name": "Python 2",
   "language": "python",
   "name": "python2"
  },
  "language_info": {
   "codemirror_mode": {
    "name": "ipython",
    "version": 2
   },
   "file_extension": ".py",
   "mimetype": "text/x-python",
   "name": "python",
   "nbconvert_exporter": "python",
   "pygments_lexer": "ipython2",
   "version": "2.7.12"
  }
 },
 "nbformat": 4,
 "nbformat_minor": 1
}
