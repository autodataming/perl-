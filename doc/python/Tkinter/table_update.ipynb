{
 "cells": [
  {
   "cell_type": "markdown",
   "metadata": {},
   "source": [
    "# python[Tk]_实时读入数据到表格\n",
    "## 摘要  \n",
    "如何实时从文本中读入数据到Tk的表格Table中？\n",
    "## 代码实例\n",
    "### 创建Table\n",
    "### 导入数据\n",
    "### 实时更新内容"
   ]
  },
  {
   "cell_type": "code",
   "execution_count": 11,
   "metadata": {
    "collapsed": false,
    "scrolled": false
   },
   "outputs": [],
   "source": [
    "#!python2 \n",
    "#coding: utf-8\n",
    "from Tkinter import *\n",
    "from ttk import *\n",
    "\n",
    "from tkintertable.Tables import TableCanvas\n",
    "from tkintertable.TableModels import TableModel\n",
    "\n",
    "'''\n",
    "创建Table\n",
    "'''\n",
    "root=Tk()\n",
    "main_f=Frame(root)\n",
    "main_f.pack()\n",
    "table = TableCanvas(main_f)\n",
    "table.createTableFrame()\n",
    "'''\n",
    "导入数据到表格中\n",
    "'''\n",
    "\n",
    "model = table.model\n",
    "#model.importDict(data) #can import from a dictionary to populate model\n",
    "table.load(\"1.table\")\n",
    "table.model.data[0]['Model']='test'\n",
    "table.model.data[6]['Model']='test6'\n",
    "table.redrawTable()\n",
    "\n",
    "'''\n",
    "实时更新表格内容，每隔5s检查文件table_input.txt\n",
    "'''\n",
    "def updatetable(filename):\n",
    "    f=open(filename,'r')\n",
    "    for lineno,line in enumerate(f):\n",
    "        if lineno == 0:\n",
    "           continue\n",
    "        else:\n",
    "            rowid=lineno-1\n",
    "            elements=line.strip().split()\n",
    "            print elements\n",
    "            table.model.data[rowid]['Model']=elements[0]\n",
    "            table.model.data[rowid]['Qty']=elements[1]\n",
    "            table.model.data[rowid]['Time']=elements[2]\n",
    "    table.redrawTable()\n",
    "    main_f.after(5000,updatetable,\"table_input.txt\")\n",
    "main_f.after(5000,updatetable,\"table_input.txt\")\n",
    "\n",
    "\n",
    "\n",
    "mainloop()"
   ]
  },
  {
   "cell_type": "markdown",
   "metadata": {},
   "source": [
    "## 实时更新解析\n",
    "**这里使用了一个小技巧，嵌套使用after**  \n",
    "widget.after(time,func,*args)  \n",
    "widget在等待time后执行一次函数func,args是传给func的参数，只执行一次func.\n",
    "在func中的最后再次调用widget.after函数，就形成了无穷循环。每隔time，执行一次func."
   ]
  },
  {
   "cell_type": "code",
   "execution_count": null,
   "metadata": {
    "collapsed": true
   },
   "outputs": [],
   "source": []
  }
 ],
 "metadata": {
  "kernelspec": {
   "display_name": "Python 2",
   "language": "python",
   "name": "python2"
  },
  "language_info": {
   "codemirror_mode": {
    "name": "ipython",
    "version": 2
   },
   "file_extension": ".py",
   "mimetype": "text/x-python",
   "name": "python",
   "nbconvert_exporter": "python",
   "pygments_lexer": "ipython2",
   "version": "2.7.12"
  }
 },
 "nbformat": 4,
 "nbformat_minor": 1
}
