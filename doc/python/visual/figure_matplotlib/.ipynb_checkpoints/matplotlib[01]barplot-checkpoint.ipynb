{
 "cells": [
  {
   "cell_type": "markdown",
   "metadata": {},
   "source": [
    "#### matplotlib[01]barplot-AND-hist\n",
    "##### 摘要\n",
    "条形图和直方图是绘图中最常见的一种表现形式，科技论文中也经常出现。这里我们汇总了所有的可能形式。\n",
    "##### 条形图和直方图的异同\n",
    "\n",
    "##### example1\n",
    "- 数据  \n",
    "\n",
    "    |学号|姓名|分数|\n",
    "    |-|-|-|\n",
    "    |小明|男|75|\n",
    "    |小红|女|79|\n",
    "    |小陆|男|92|"
   ]
  },
  {
   "cell_type": "code",
   "execution_count": null,
   "metadata": {
    "collapsed": true
   },
   "outputs": [],
   "source": []
  }
 ],
 "metadata": {
  "kernelspec": {
   "display_name": "Python 2",
   "language": "python",
   "name": "python2"
  },
  "language_info": {
   "codemirror_mode": {
    "name": "ipython",
    "version": 2
   },
   "file_extension": ".py",
   "mimetype": "text/x-python",
   "name": "python",
   "nbconvert_exporter": "python",
   "pygments_lexer": "ipython2",
   "version": "2.7.12"
  }
 },
 "nbformat": 4,
 "nbformat_minor": 1
}
